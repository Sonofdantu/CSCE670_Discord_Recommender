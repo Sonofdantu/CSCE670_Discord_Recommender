{
 "cells": [
  {
   "cell_type": "code",
   "execution_count": null,
   "id": "3fb3fdfb",
   "metadata": {},
   "outputs": [],
   "source": [
    "import pandas as pd\n",
    "import openai\n",
    "import time\n",
    "from tqdm import tqdm\n",
    "\n",
    "# Set up OpenAI client\n",
    "client = openai.OpenAI(\n",
    "    api_key=\"\"\n",
    ")\n",
    "\n",
    "# Load CSV\n",
    "df = pd.read_csv(\"data/Looking For Gamers (LFG) - 💬 Main Chats - general [178960147027197952].csv\")\n",
    "df[\"Game\"] = \"\"\n",
    "\n",
    "# Helper: Ask GPT in batch\n",
    "def ask_batch_gpt(messages):\n",
    "    prompt = \"Please analyze the following Discord messages. For each one, extract games mentioned(only the full name. No explanation).\\nIf there are none, write 'None'.\\n\\n\"\n",
    "    for i, msg in enumerate(messages, 1):\n",
    "        prompt += f\"Message {i}: \\\"{msg}\\\"\\n\"\n",
    "    prompt += \"\\nFormat:\\nMessage 1:\\nGame: ...\\nMessage 2:\\n...\"\n",
    "\n",
    "    try:\n",
    "        response = client.chat.completions.create(\n",
    "            model=\"gpt-4o-mini\",\n",
    "            messages=[{\"role\": \"user\", \"content\": prompt}],\n",
    "        )\n",
    "        return response.choices[0].message.content\n",
    "    except Exception as e:\n",
    "        print(\"Error:\", e)\n",
    "        return \"\"\n",
    "\n",
    "import re\n",
    "\n",
    "def parse_response(response):\n",
    "    results = {}\n",
    "    chunks = response.split(\"Message \")\n",
    "    for chunk in chunks:\n",
    "        if not chunk.strip():\n",
    "            continue\n",
    "        lines = chunk.strip().splitlines()\n",
    "        match = re.match(r\"(\\d+):?\", lines[0].strip())\n",
    "        if not match:\n",
    "            continue\n",
    "        idx = int(match.group(1))\n",
    "        game = \"\"\n",
    "        for line in lines[1:]:\n",
    "            if line.lower().startswith(\"game\"):\n",
    "                game = line.split(\":\", 1)[-1].strip()\n",
    "        results[idx] = game\n",
    "    return results"
   ]
  },
  {
   "cell_type": "code",
   "execution_count": 15,
   "id": "2151dfdb",
   "metadata": {},
   "outputs": [
    {
     "name": "stderr",
     "output_type": "stream",
     "text": [
      "100%|██████████| 15000/15000 [12:32:22<00:00,  3.01s/it]  \n"
     ]
    }
   ],
   "source": [
    "# Batch process\n",
    "batch_size = 10\n",
    "row_cnt = 150000\n",
    "subset = df.iloc[:row_cnt]\n",
    "\n",
    "for start in tqdm(range(0, len(subset), batch_size)):\n",
    "    batch = subset.iloc[start:start+batch_size]\n",
    "    messages = batch[\"Content\"].fillna(\"\").astype(str).str.strip().tolist()\n",
    "    response = ask_batch_gpt(messages)\n",
    "    parsed = parse_response(response)\n",
    "\n",
    "    for i, game in parsed.items():\n",
    "        if start + i - 1 < len(subset):\n",
    "            idx = subset.index[start + i - 1]\n",
    "            df.at[idx, \"Game\"] = game\n",
    "\n",
    "    time.sleep(1)  # Avoid rate limits\n",
    "\n"
   ]
  },
  {
   "cell_type": "code",
   "execution_count": 16,
   "id": "965a00a9",
   "metadata": {},
   "outputs": [
    {
     "name": "stdout",
     "output_type": "stream",
     "text": [
      "✅ Saved to discord_author_game.csv\n"
     ]
    }
   ],
   "source": [
    "# Save\n",
    "df_out = subset[[\"AuthorID\", \"Author\", \"Content\", \"Game\"]]\n",
    "df_out.to_csv(\"discord_author_game.csv\", index=False)\n",
    "print(\"✅ Saved to discord_author_game.csv\")"
   ]
  },
  {
   "cell_type": "code",
   "execution_count": null,
   "id": "30394e07",
   "metadata": {},
   "outputs": [],
   "source": []
  }
 ],
 "metadata": {
  "kernelspec": {
   "display_name": "discordbot",
   "language": "python",
   "name": "python3"
  },
  "language_info": {
   "codemirror_mode": {
    "name": "ipython",
    "version": 3
   },
   "file_extension": ".py",
   "mimetype": "text/x-python",
   "name": "python",
   "nbconvert_exporter": "python",
   "pygments_lexer": "ipython3",
   "version": "3.10.16"
  }
 },
 "nbformat": 4,
 "nbformat_minor": 5
}
